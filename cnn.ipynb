{
  "cells": [
    {
      "cell_type": "markdown",
      "id": "43801478",
      "metadata": {
        "id": "43801478"
      },
      "source": [
        "**Шевченко Глеб Олегович 214-322**"
      ]
    },
    {
      "cell_type": "markdown",
      "id": "e9734788",
      "metadata": {
        "id": "e9734788"
      },
      "source": [
        "# Задание 2 Сверточная нейронная сеть для классификации медицинских изображений\n",
        "\n",
        "## Задание\n",
        "\n",
        "Используя фреймворк Pytorch создать сверточную нейронную сеть LeNet, данную модель обучить и протестировать на базе MedMNIST.\n",
        "\n",
        "Также необходимо подобрать гиперпараметры на обучающей и проверочной выборках и повысить точность работы модели для тестовой выборки. При улучшении или ухудшении точности в выводах описать гипотезу почему ваши изменения привели к такому результату.\n",
        "\n",
        "## Источники\n",
        "\n",
        "1. [Статья о LeNet](http://yann.lecun.com/exdb/publis/pdf/lecun-98.pdf)\n",
        "1. [Источник изображений и описание датасетов](https://medmnist.com/)\n",
        "1. Training a Classifier [ENG](https://pytorch.org/tutorials/beginner/blitz/cifar10_tutorial.html)\n",
        "1. Сверточная нейронная сеть на PyTorch [RUS](https://neurohive.io/ru/tutorial/cnn-na-pytorch/) / [ENG](https://adventuresinmachinelearning.com/convolutional-neural-networks-tutorial-in-pytorch/)\n",
        "1. Понимание сверточных нейронных сетей через визуализации в PyTorch [RUS](https://habr.com/ru/post/436838/)"
      ]
    },
    {
      "cell_type": "code",
      "source": [
        "!pip install medmnist"
      ],
      "metadata": {
        "colab": {
          "base_uri": "https://localhost:8080/"
        },
        "id": "Bbe0JnkEntuq",
        "outputId": "ca76e82b-4975-4703-f929-6dc8698f48b6"
      },
      "id": "Bbe0JnkEntuq",
      "execution_count": 2,
      "outputs": [
        {
          "output_type": "stream",
          "name": "stdout",
          "text": [
            "Looking in indexes: https://pypi.org/simple, https://us-python.pkg.dev/colab-wheels/public/simple/\n",
            "Collecting medmnist\n",
            "  Downloading medmnist-2.1.0-py3-none-any.whl (21 kB)\n",
            "Requirement already satisfied: tqdm in /usr/local/lib/python3.8/dist-packages (from medmnist) (4.64.1)\n",
            "Requirement already satisfied: torch in /usr/local/lib/python3.8/dist-packages (from medmnist) (1.13.1+cu116)\n",
            "Requirement already satisfied: torchvision in /usr/local/lib/python3.8/dist-packages (from medmnist) (0.14.1+cu116)\n",
            "Requirement already satisfied: pandas in /usr/local/lib/python3.8/dist-packages (from medmnist) (1.3.5)\n",
            "Requirement already satisfied: Pillow in /usr/local/lib/python3.8/dist-packages (from medmnist) (8.4.0)\n",
            "Collecting fire\n",
            "  Downloading fire-0.5.0.tar.gz (88 kB)\n",
            "\u001b[2K     \u001b[90m━━━━━━━━━━━━━━━━━━━━━━━━━━━━━━━━━━━━━━━━\u001b[0m \u001b[32m88.3/88.3 KB\u001b[0m \u001b[31m4.6 MB/s\u001b[0m eta \u001b[36m0:00:00\u001b[0m\n",
            "\u001b[?25h  Preparing metadata (setup.py) ... \u001b[?25l\u001b[?25hdone\n",
            "Requirement already satisfied: scikit-image in /usr/local/lib/python3.8/dist-packages (from medmnist) (0.18.3)\n",
            "Requirement already satisfied: scikit-learn in /usr/local/lib/python3.8/dist-packages (from medmnist) (1.0.2)\n",
            "Requirement already satisfied: numpy in /usr/local/lib/python3.8/dist-packages (from medmnist) (1.22.4)\n",
            "Requirement already satisfied: six in /usr/local/lib/python3.8/dist-packages (from fire->medmnist) (1.15.0)\n",
            "Requirement already satisfied: termcolor in /usr/local/lib/python3.8/dist-packages (from fire->medmnist) (2.2.0)\n",
            "Requirement already satisfied: python-dateutil>=2.7.3 in /usr/local/lib/python3.8/dist-packages (from pandas->medmnist) (2.8.2)\n",
            "Requirement already satisfied: pytz>=2017.3 in /usr/local/lib/python3.8/dist-packages (from pandas->medmnist) (2022.7.1)\n",
            "Requirement already satisfied: imageio>=2.3.0 in /usr/local/lib/python3.8/dist-packages (from scikit-image->medmnist) (2.9.0)\n",
            "Requirement already satisfied: PyWavelets>=1.1.1 in /usr/local/lib/python3.8/dist-packages (from scikit-image->medmnist) (1.4.1)\n",
            "Requirement already satisfied: scipy>=1.0.1 in /usr/local/lib/python3.8/dist-packages (from scikit-image->medmnist) (1.7.3)\n",
            "Requirement already satisfied: tifffile>=2019.7.26 in /usr/local/lib/python3.8/dist-packages (from scikit-image->medmnist) (2023.2.3)\n",
            "Requirement already satisfied: matplotlib!=3.0.0,>=2.0.0 in /usr/local/lib/python3.8/dist-packages (from scikit-image->medmnist) (3.5.3)\n",
            "Requirement already satisfied: networkx>=2.0 in /usr/local/lib/python3.8/dist-packages (from scikit-image->medmnist) (3.0)\n",
            "Requirement already satisfied: threadpoolctl>=2.0.0 in /usr/local/lib/python3.8/dist-packages (from scikit-learn->medmnist) (3.1.0)\n",
            "Requirement already satisfied: joblib>=0.11 in /usr/local/lib/python3.8/dist-packages (from scikit-learn->medmnist) (1.2.0)\n",
            "Requirement already satisfied: typing-extensions in /usr/local/lib/python3.8/dist-packages (from torch->medmnist) (4.5.0)\n",
            "Requirement already satisfied: requests in /usr/local/lib/python3.8/dist-packages (from torchvision->medmnist) (2.25.1)\n",
            "Requirement already satisfied: pyparsing>=2.2.1 in /usr/local/lib/python3.8/dist-packages (from matplotlib!=3.0.0,>=2.0.0->scikit-image->medmnist) (3.0.9)\n",
            "Requirement already satisfied: fonttools>=4.22.0 in /usr/local/lib/python3.8/dist-packages (from matplotlib!=3.0.0,>=2.0.0->scikit-image->medmnist) (4.38.0)\n",
            "Requirement already satisfied: kiwisolver>=1.0.1 in /usr/local/lib/python3.8/dist-packages (from matplotlib!=3.0.0,>=2.0.0->scikit-image->medmnist) (1.4.4)\n",
            "Requirement already satisfied: cycler>=0.10 in /usr/local/lib/python3.8/dist-packages (from matplotlib!=3.0.0,>=2.0.0->scikit-image->medmnist) (0.11.0)\n",
            "Requirement already satisfied: packaging>=20.0 in /usr/local/lib/python3.8/dist-packages (from matplotlib!=3.0.0,>=2.0.0->scikit-image->medmnist) (23.0)\n",
            "Requirement already satisfied: certifi>=2017.4.17 in /usr/local/lib/python3.8/dist-packages (from requests->torchvision->medmnist) (2022.12.7)\n",
            "Requirement already satisfied: urllib3<1.27,>=1.21.1 in /usr/local/lib/python3.8/dist-packages (from requests->torchvision->medmnist) (1.24.3)\n",
            "Requirement already satisfied: idna<3,>=2.5 in /usr/local/lib/python3.8/dist-packages (from requests->torchvision->medmnist) (2.10)\n",
            "Requirement already satisfied: chardet<5,>=3.0.2 in /usr/local/lib/python3.8/dist-packages (from requests->torchvision->medmnist) (4.0.0)\n",
            "Building wheels for collected packages: fire\n",
            "  Building wheel for fire (setup.py) ... \u001b[?25l\u001b[?25hdone\n",
            "  Created wheel for fire: filename=fire-0.5.0-py2.py3-none-any.whl size=116949 sha256=b6429433758d735bd442911b3e7ec850e3c0fcdeed9f266c4ce381a844e695b3\n",
            "  Stored in directory: /root/.cache/pip/wheels/5b/eb/43/7295e71293b218ddfd627f935229bf54af9018add7fbb5aac6\n",
            "Successfully built fire\n",
            "Installing collected packages: fire, medmnist\n",
            "Successfully installed fire-0.5.0 medmnist-2.1.0\n"
          ]
        }
      ]
    },
    {
      "cell_type": "code",
      "execution_count": 3,
      "id": "0904ac34",
      "metadata": {
        "id": "0904ac34"
      },
      "outputs": [],
      "source": [
        "# С датасетами из MedMNIST идет модуль для python, который облегчает работу с ними. Ниже команда для установки и импорта этой библиотеки.\n",
        "import medmnist\n",
        "from medmnist import INFO, Evaluator"
      ]
    },
    {
      "cell_type": "code",
      "execution_count": 4,
      "id": "87c30a3c",
      "metadata": {
        "id": "87c30a3c"
      },
      "outputs": [],
      "source": [
        "data_flag = 'organcmnist'  # выбираем один из датасетов\n",
        "\n",
        "info = INFO[data_flag]\n",
        "\n",
        "DataClass = getattr(medmnist, info['python_class'])\n",
        "\n",
        "task = info['task']"
      ]
    },
    {
      "cell_type": "code",
      "execution_count": 5,
      "id": "e44df44d",
      "metadata": {
        "id": "e44df44d"
      },
      "outputs": [],
      "source": [
        "from tqdm import tqdm\n",
        "import numpy as np\n",
        "import torch\n",
        "import torch.nn as nn\n",
        "import torch.optim as optim\n",
        "from torch.utils.data import DataLoader\n",
        "import torchvision.transforms as transforms"
      ]
    },
    {
      "cell_type": "code",
      "execution_count": 6,
      "id": "edab7588",
      "metadata": {
        "colab": {
          "base_uri": "https://localhost:8080/",
          "height": 121,
          "referenced_widgets": [
            "4890095d83a7425abdbe6a005f575d64",
            "ff21dba7dc6f46c4b59386dd786b2756",
            "2b693b54d2c74cfd8c0ffd30493ceaaa",
            "b0f9b9b2d0b84faa84afcc39759a271f",
            "fe9c469924504ca1aa595dbc45186566",
            "31f5010c4631467f8cd864c420fc08fb",
            "4311527f5ed740a3af4b803c506a2ff0",
            "ef030662fc7f4c929862dbc35591add0",
            "6a8f51c2372c43da922d321ea6c9d615",
            "63b04d06d35d4470ac3462ef945eddd7",
            "d33ab47900af417c9980b01dc6251e43"
          ]
        },
        "id": "edab7588",
        "outputId": "962ddb7d-24fc-41c9-abd5-718b4667f45d"
      },
      "outputs": [
        {
          "output_type": "stream",
          "name": "stdout",
          "text": [
            "Downloading https://zenodo.org/record/6496656/files/organcmnist.npz?download=1 to /root/.medmnist/organcmnist.npz\n"
          ]
        },
        {
          "output_type": "display_data",
          "data": {
            "text/plain": [
              "  0%|          | 0/15527535 [00:00<?, ?it/s]"
            ],
            "application/vnd.jupyter.widget-view+json": {
              "version_major": 2,
              "version_minor": 0,
              "model_id": "4890095d83a7425abdbe6a005f575d64"
            }
          },
          "metadata": {}
        },
        {
          "output_type": "stream",
          "name": "stdout",
          "text": [
            "Using downloaded and verified file: /root/.medmnist/organcmnist.npz\n",
            "Using downloaded and verified file: /root/.medmnist/organcmnist.npz\n"
          ]
        }
      ],
      "source": [
        "BATCH_SIZE = 128\n",
        "\n",
        "# предобработка данных\n",
        "data_transform = transforms.Compose([\n",
        "    transforms.Resize((32,32)),\n",
        "    transforms.ToTensor(),\n",
        "    transforms.Normalize(mean=[.5], std=[.5])\n",
        "])\n",
        "\n",
        "# Загрузка данных и их разделение на выборки в датасете данные уже разделены на три подвыборки {'train': 13000, 'val': 2392, 'test': 8268}\n",
        "train_dataset = DataClass(split='train', transform=data_transform, download=True)\n",
        "val_dataset =  DataClass(split='val', transform=data_transform, download=True) # По аналогии с train_dataset создайте соответствующую подвыборку\n",
        "test_dataset =  DataClass(split='test', transform=data_transform, download=True) # По аналогии с train_dataset создайте соответствующую подвыборку\n",
        "\n",
        "# Передача данных в DataLoader из Pytorch\n",
        "train_loader = DataLoader(dataset=train_dataset, batch_size=BATCH_SIZE, shuffle=True)\n",
        "val_loader =  DataLoader(dataset=val_dataset, batch_size=BATCH_SIZE, shuffle=True) # По аналогии с train_loader создайте соответствующий загрузчик данных, но здесь для батча перемешивание не требуется\n",
        "test_loader =  DataLoader(dataset=test_dataset, batch_size=BATCH_SIZE, shuffle=True) # По аналогии с train_loader создайте соответствующий загрузчик данных, но здесь для батча перемешивание не требуется"
      ]
    },
    {
      "cell_type": "markdown",
      "id": "c46e9201",
      "metadata": {
        "id": "c46e9201"
      },
      "source": [
        "## Краткая информация о датасете "
      ]
    },
    {
      "cell_type": "code",
      "execution_count": 7,
      "id": "070751bb",
      "metadata": {
        "colab": {
          "base_uri": "https://localhost:8080/"
        },
        "id": "070751bb",
        "outputId": "14104a08-b1dd-48b2-dd22-561c1fc53aae"
      },
      "outputs": [
        {
          "output_type": "stream",
          "name": "stdout",
          "text": [
            "Задача: multi-class классификация\n",
            "Количество классов:11\n",
            "===================\n",
            "Dataset OrganCMNIST (organcmnist)\n",
            "    Number of datapoints: 13000\n",
            "    Root location: /root/.medmnist\n",
            "    Split: train\n",
            "    Task: multi-class\n",
            "    Number of channels: 1\n",
            "    Meaning of labels: {'0': 'bladder', '1': 'femur-left', '2': 'femur-right', '3': 'heart', '4': 'kidney-left', '5': 'kidney-right', '6': 'liver', '7': 'lung-left', '8': 'lung-right', '9': 'pancreas', '10': 'spleen'}\n",
            "    Number of samples: {'train': 13000, 'val': 2392, 'test': 8268}\n",
            "    Description: The OrganCMNIST is based on 3D computed tomography (CT) images from Liver Tumor Segmentation Benchmark (LiTS). It is renamed from OrganMNIST_Coronal (in MedMNIST v1) for simplicity. We use bounding-box annotations of 11 body organs from another study to obtain the organ labels. Hounsfield-Unit (HU) of the 3D images are transformed into gray-scale with an abdominal window. We crop 2D images from the center slices of the 3D bounding boxes in coronal views (planes). The images are resized into 1×28×28 to perform multi-class classification of 11 body organs. 115 and 16 CT scans from the source training set are used as training and validation set, respectively. The 70 CT scans from the source test set are treated as the test set.\n",
            "    License: CC BY 4.0\n"
          ]
        }
      ],
      "source": [
        "print(f\"Задача: {task} классификация\\nКоличество классов:{len(info['label'])}\")\n",
        "print(\"===================\")\n",
        "print(train_dataset)"
      ]
    },
    {
      "cell_type": "code",
      "execution_count": 8,
      "id": "d057ecb9",
      "metadata": {
        "colab": {
          "base_uri": "https://localhost:8080/",
          "height": 297
        },
        "id": "d057ecb9",
        "outputId": "2b026f4b-091a-4da5-bfd6-6883f3dc2004"
      },
      "outputs": [
        {
          "output_type": "execute_result",
          "data": {
            "text/plain": [
              "<PIL.Image.Image image mode=L size=280x280 at 0x7FB0C4495640>"
            ],
            "image/png": "[encoded data removed]"
          },
          "metadata": {},
          "execution_count": 8
        }
      ],
      "source": [
        "# Визуализация изображений\n",
        "\n",
        "train_dataset.montage(length=10)"
      ]
    },
    {
      "cell_type": "markdown",
      "id": "a58c79ea",
      "metadata": {
        "id": "a58c79ea"
      },
      "source": [
        "## Составляющие для обучения модели\n",
        "\n",
        "Для решения задачи требуются:\n",
        "\n",
        "1. Архитектура (нейронная сеть)\n",
        "1. Цель (функция потерь / loss)\n",
        "1. Оптимизатор (обновление параметров модели)\n",
        "\n",
        "При работе с фреймворком PyTorch тогда потребуется:\n",
        "\n",
        "1. Архитектура созданная с помощью API `nn.Module` или `nn.Sequential`.\n",
        "2. Функция потерь из `nn.Module` или [` nn.functional`](https://pytorch.org/docs/stable/nn.functional.html) API.\n",
        "3. Оптимизатор из [`torch.optim.Optimizer`](https://pytorch.org/docs/stable/optim.html).\n",
        "\n",
        "Из [`nn.Module`](https://pytorch.org/docs/stable/nn.html) можно в готовом виде использовать, например:\n",
        "- `nn.Linear`\n",
        "- `nn.Conv1d`, `nn.Conv2d`\n",
        "- `nn.MaxPool1d`, `nn.AdaptiveMaxPool1d`\n",
        "- `nn.ReLU`, `nn.ELU`, `nn.LeakyReLU`, `nn.Tanh`, `nn.Sigmoid`\n",
        "- `nn.BatchNorm1d`, `nn.BatchNorm2d`\n",
        "- `nn.Dropout`\n",
        "- Потери: `nn.CrossEntropyLoss`, `nn.NLLLoss`, `nn.MSELoss`\n",
        "\n",
        "`nn.Sequential` позволяет создать последовательность различных модулей из ` nn.Module`. Они инициируются списком модулей, где выходные данные одного модуля идут в качестве входных данных для следующего."
      ]
    },
    {
      "cell_type": "markdown",
      "id": "c51a7734",
      "metadata": {
        "id": "c51a7734"
      },
      "source": [
        "## Реализуйте LeNet\n",
        "\n",
        "На ваше усмотрение вы можете создать модель через новый класс отнаследовавшись от `nn.Module` или `nn.Sequential()` главное закомментировать и раскомментировать нужный код.\n",
        "\n",
        "Архитектура:\n",
        "* Свёртки 5x5, шаг 1, 1 карта на входе, 6 на выходе с активацией ReLU;\n",
        "* MaxPooling 2x2, с шагом 2;\n",
        "* Свёртки 5x5, шаг 1, 6 карт на входе, 16 на выходе с активацией ReLU;\n",
        "* MaxPooling 2x2, с шагом 2;\n",
        "* Уплощения (nn.Flatten);\n",
        "* Полносвязного слоя со 120 нейронами и активацией ReLU;\n",
        "* Полносвязного слоя с 84 нейронами и активацией ReLU;\n",
        "* Выходного слоя из 11 нейронов."
      ]
    },
    {
      "cell_type": "code",
      "execution_count": 9,
      "id": "7ad0e4eb",
      "metadata": {
        "id": "7ad0e4eb"
      },
      "outputs": [],
      "source": [
        "# Или через nn.Sequential\n",
        "model = nn.Sequential(\n",
        "    nn.Conv2d(1,6,5),\n",
        "    nn.ReLU(),\n",
        "    nn.MaxPool2d(2, 2),\n",
        "    nn.Conv2d(6,16,5),\n",
        "    nn.ReLU(),\n",
        "    nn.MaxPool2d(2, 2),\n",
        "    nn.Flatten(),\n",
        "    nn.Linear(400, 120),\n",
        "    nn.Linear(120, 84),\n",
        "    nn.Linear(84, 11)\n",
        ")"
      ]
    },
    {
      "cell_type": "code",
      "execution_count": 10,
      "id": "15e146e1",
      "metadata": {
        "colab": {
          "base_uri": "https://localhost:8080/"
        },
        "id": "15e146e1",
        "outputId": "6309cf0a-6b5e-49d1-f006-1d177f101333"
      },
      "outputs": [
        {
          "output_type": "execute_result",
          "data": {
            "text/plain": [
              "Sequential(\n",
              "  (0): Conv2d(1, 6, kernel_size=(5, 5), stride=(1, 1))\n",
              "  (1): ReLU()\n",
              "  (2): MaxPool2d(kernel_size=2, stride=2, padding=0, dilation=1, ceil_mode=False)\n",
              "  (3): Conv2d(6, 16, kernel_size=(5, 5), stride=(1, 1))\n",
              "  (4): ReLU()\n",
              "  (5): MaxPool2d(kernel_size=2, stride=2, padding=0, dilation=1, ceil_mode=False)\n",
              "  (6): Flatten(start_dim=1, end_dim=-1)\n",
              "  (7): Linear(in_features=400, out_features=120, bias=True)\n",
              "  (8): Linear(in_features=120, out_features=84, bias=True)\n",
              "  (9): Linear(in_features=84, out_features=11, bias=True)\n",
              ")"
            ]
          },
          "metadata": {},
          "execution_count": 10
        }
      ],
      "source": [
        "# Проверка есть ли в доступе GPU для обучения и использование модели на доступном устройстве\n",
        "\n",
        "device = torch.device('cuda' if torch.cuda.is_available() else 'cpu')\n",
        "model.to(device)"
      ]
    },
    {
      "cell_type": "code",
      "execution_count": 12,
      "id": "f8a8e5f9",
      "metadata": {
        "id": "f8a8e5f9"
      },
      "outputs": [],
      "source": [
        "# Описание построенной архитектуры"
      ]
    },
    {
      "cell_type": "code",
      "execution_count": 13,
      "id": "0838bed4",
      "metadata": {
        "id": "0838bed4"
      },
      "outputs": [],
      "source": [
        "NUM_EPOCHS = 10\n",
        "learning_rate = 0.001\n",
        "\n",
        "criterion = nn.CrossEntropyLoss()\n",
        "\n",
        "# Выберите один из вариантов оптимизатора \n",
        "# optimizer = optim.Adam(model.parameters(), lr=learning_rate)\n",
        "# optimizer = optim.SGD(model.parameters(), lr=learning_rate, momentum=0.9)"
      ]
    },
    {
      "cell_type": "markdown",
      "id": "76db71a8",
      "metadata": {
        "id": "76db71a8"
      },
      "source": [
        "## Обучение\n",
        "\n",
        "Шаги для обучения на одном батче данных:\n",
        "1. загрузить батч\n",
        "2. выполнить прямой проход модели, получить выходы модели\n",
        "3. рассчитать `loss`\n",
        "4. выполнить `loss.backward ()` для вычисления градиентов функции потери относительно параметров модели\n",
        "5. выполнить шаг оптимизации `optimizer.step ()`\n",
        "6. занулить градиенты\n",
        "7. провести валидацию после каждой эпохи\n",
        "\n",
        "Общий подход к обучению НС с использованием PyTorch\n",
        "\n",
        "\n",
        "```python\n",
        "for epoch in range(max_epochs):\n",
        "    model.train()\n",
        "    for inputs, targets in dataloader:\n",
        "        optimizer.zero_grad()\n",
        "        outp = model(inputs)\n",
        "        loss = criterion(outp, targets)\n",
        "        loss.backward()\n",
        "        optimizer.step()\n",
        "```"
      ]
    },
    {
      "cell_type": "code",
      "execution_count": 15,
      "id": "8fe21b70",
      "metadata": {
        "colab": {
          "base_uri": "https://localhost:8080/"
        },
        "id": "8fe21b70",
        "outputId": "c9fc5bc6-5792-4af2-d0e6-56453fcd4a9d"
      },
      "outputs": [
        {
          "output_type": "stream",
          "name": "stderr",
          "text": [
            "100%|██████████| 102/102 [00:05<00:00, 18.88it/s]\n",
            "100%|██████████| 102/102 [00:05<00:00, 17.95it/s]\n",
            "100%|██████████| 102/102 [00:05<00:00, 19.62it/s]\n",
            "100%|██████████| 102/102 [00:05<00:00, 17.63it/s]\n",
            "100%|██████████| 102/102 [00:05<00:00, 17.70it/s]\n",
            "100%|██████████| 102/102 [00:06<00:00, 16.63it/s]\n",
            "100%|██████████| 102/102 [00:05<00:00, 19.32it/s]\n",
            "100%|██████████| 102/102 [00:05<00:00, 17.74it/s]\n",
            "100%|██████████| 102/102 [00:05<00:00, 19.96it/s]\n",
            "100%|██████████| 102/102 [00:05<00:00, 18.17it/s]\n"
          ]
        }
      ],
      "source": [
        "# train\n",
        "history = []\n",
        "\n",
        "optimizer = torch.optim.Adam(model.parameters(), lr=learning_rate)\n",
        "\n",
        "for epoch in range(NUM_EPOCHS):\n",
        "    train_correct = 0\n",
        "    train_total = 0\n",
        "    test_correct = 0\n",
        "    test_total = 0\n",
        "    model.train()\n",
        "    for inputs, targets in tqdm(train_loader):\n",
        "        \n",
        "        # ***Начало вашего кода***\n",
        "        optimizer.zero_grad()\n",
        "        outp=model(inputs)\n",
        "        loss=criterion(outp, targets.squeeze().long())\n",
        "        loss.backward()\n",
        "        optimizer.step()\n",
        "        # ***Конец вашего кода***\n",
        "        \n",
        "        history.append(loss.item())"
      ]
    },
    {
      "cell_type": "code",
      "execution_count": 17,
      "id": "3a626f9d",
      "metadata": {
        "colab": {
          "base_uri": "https://localhost:8080/",
          "height": 458
        },
        "id": "3a626f9d",
        "outputId": "a78fc3cd-5c1b-4f44-c378-fc05eb8360f9"
      },
      "outputs": [
        {
          "output_type": "display_data",
          "data": {
            "text/plain": [
              "<Figure size 720x504 with 1 Axes>"
            ],
            "image/png": "[encoded data removed]"
          },
          "metadata": {
            "needs_background": "light"
          }
        }
      ],
      "source": [
        "# График для потерь по мере обучения\n",
        "\n",
        "import matplotlib.pyplot as plt\n",
        "plt.figure(figsize=(10, 7))\n",
        "plt.plot(history)\n",
        "plt.title('Loss by batch iterations')\n",
        "plt.ylabel('Entropy Loss')\n",
        "plt.xlabel('batches')\n",
        "plt.show()"
      ]
    },
    {
      "cell_type": "code",
      "execution_count": 18,
      "id": "1d7d9088",
      "metadata": {
        "id": "1d7d9088"
      },
      "outputs": [],
      "source": [
        "# Функция для оценки работы модели\n",
        "\n",
        "def test(split):\n",
        "    model.eval()\n",
        "    y_true = torch.tensor([])\n",
        "    y_score = torch.tensor([])\n",
        "    \n",
        "    data_loader = test_loader\n",
        "\n",
        "    with torch.no_grad():\n",
        "        for inputs, targets in data_loader:\n",
        "            outputs = model(inputs)\n",
        "\n",
        "            targets = targets.squeeze().long()\n",
        "            outputs = outputs.softmax(dim=-1)\n",
        "            targets = targets.float().resize_(len(targets), 1)\n",
        "\n",
        "            y_true = torch.cat((y_true, targets), 0)\n",
        "            y_score = torch.cat((y_score, outputs), 0)\n",
        "\n",
        "        y_true = y_true.numpy()\n",
        "        y_score = y_score.detach().numpy()\n",
        "        \n",
        "        evaluator = Evaluator(data_flag, split)\n",
        "        metrics = evaluator.evaluate(y_score)\n",
        "    \n",
        "        print('%s  auc: %.3f  acc:%.3f' % (split, *metrics))"
      ]
    },
    {
      "cell_type": "code",
      "execution_count": 19,
      "id": "c9672a5d",
      "metadata": {
        "colab": {
          "base_uri": "https://localhost:8080/"
        },
        "id": "c9672a5d",
        "outputId": "b1964177-8667-449d-d6ee-7795968cd122"
      },
      "outputs": [
        {
          "output_type": "stream",
          "name": "stdout",
          "text": [
            "test  auc: 0.500  acc:0.115\n"
          ]
        }
      ],
      "source": [
        "test('test')"
      ]
    },
    {
      "cell_type": "markdown",
      "id": "e1bf9e05",
      "metadata": {
        "id": "e1bf9e05"
      },
      "source": [
        "## Подбор гиперпараметров\n",
        "\n",
        "Попробовать модифицировать гиперпараметры и архитектуру сети для повышения точности ее работы."
      ]
    },
    {
      "cell_type": "code",
      "execution_count": 26,
      "id": "a8b50429",
      "metadata": {
        "id": "a8b50429"
      },
      "outputs": [],
      "source": [
        "NUM_EPOCHS = 50\n",
        "learning_rate = 0.001"
      ]
    },
    {
      "cell_type": "code",
      "execution_count": 27,
      "id": "5c668d8b",
      "metadata": {
        "colab": {
          "base_uri": "https://localhost:8080/"
        },
        "id": "5c668d8b",
        "outputId": "191cedc2-c72e-485f-ce4d-ee9e276011f6"
      },
      "outputs": [
        {
          "output_type": "stream",
          "name": "stderr",
          "text": [
            "100%|██████████| 102/102 [00:05<00:00, 17.25it/s]\n",
            "100%|██████████| 102/102 [00:05<00:00, 18.76it/s]\n",
            "100%|██████████| 102/102 [00:05<00:00, 17.05it/s]\n",
            "100%|██████████| 102/102 [00:05<00:00, 18.84it/s]\n",
            "100%|██████████| 102/102 [00:05<00:00, 17.17it/s]\n",
            "100%|██████████| 102/102 [00:05<00:00, 18.43it/s]\n",
            "100%|██████████| 102/102 [00:06<00:00, 16.70it/s]\n",
            "100%|██████████| 102/102 [00:06<00:00, 16.33it/s]\n",
            "100%|██████████| 102/102 [00:06<00:00, 16.74it/s]\n",
            "100%|██████████| 102/102 [00:05<00:00, 18.37it/s]\n",
            "100%|██████████| 102/102 [00:06<00:00, 16.81it/s]\n",
            "100%|██████████| 102/102 [00:06<00:00, 15.67it/s]\n",
            "100%|██████████| 102/102 [00:06<00:00, 16.19it/s]\n",
            "100%|██████████| 102/102 [00:05<00:00, 18.25it/s]\n",
            "100%|██████████| 102/102 [00:06<00:00, 16.80it/s]\n",
            "100%|██████████| 102/102 [00:05<00:00, 18.36it/s]\n",
            "100%|██████████| 102/102 [00:06<00:00, 16.67it/s]\n",
            "100%|██████████| 102/102 [00:05<00:00, 18.44it/s]\n",
            "100%|██████████| 102/102 [00:06<00:00, 16.41it/s]\n",
            "100%|██████████| 102/102 [00:06<00:00, 14.65it/s]\n",
            "100%|██████████| 102/102 [00:06<00:00, 16.63it/s]\n",
            "100%|██████████| 102/102 [00:05<00:00, 18.56it/s]\n",
            "100%|██████████| 102/102 [00:06<00:00, 16.68it/s]\n",
            "100%|██████████| 102/102 [00:05<00:00, 18.33it/s]\n",
            "100%|██████████| 102/102 [00:06<00:00, 16.93it/s]\n",
            "100%|██████████| 102/102 [00:05<00:00, 18.13it/s]\n",
            "100%|██████████| 102/102 [00:05<00:00, 17.01it/s]\n",
            "100%|██████████| 102/102 [00:05<00:00, 18.70it/s]\n",
            "100%|██████████| 102/102 [00:06<00:00, 16.79it/s]\n",
            "100%|██████████| 102/102 [00:05<00:00, 17.45it/s]\n",
            "100%|██████████| 102/102 [00:07<00:00, 14.49it/s]\n",
            "100%|██████████| 102/102 [00:05<00:00, 18.38it/s]\n",
            "100%|██████████| 102/102 [00:06<00:00, 16.76it/s]\n",
            "100%|██████████| 102/102 [00:05<00:00, 18.56it/s]\n",
            "100%|██████████| 102/102 [00:06<00:00, 16.78it/s]\n",
            "100%|██████████| 102/102 [00:05<00:00, 18.39it/s]\n",
            "100%|██████████| 102/102 [00:06<00:00, 16.92it/s]\n",
            "100%|██████████| 102/102 [00:05<00:00, 18.48it/s]\n",
            "100%|██████████| 102/102 [00:06<00:00, 16.73it/s]\n",
            "100%|██████████| 102/102 [00:05<00:00, 18.65it/s]\n",
            "100%|██████████| 102/102 [00:06<00:00, 16.93it/s]\n",
            "100%|██████████| 102/102 [00:05<00:00, 18.47it/s]\n",
            "100%|██████████| 102/102 [00:06<00:00, 16.92it/s]\n",
            "100%|██████████| 102/102 [00:05<00:00, 18.56it/s]\n",
            "100%|██████████| 102/102 [00:05<00:00, 17.22it/s]\n",
            "100%|██████████| 102/102 [00:05<00:00, 18.20it/s]\n",
            "100%|██████████| 102/102 [00:05<00:00, 17.49it/s]\n",
            "100%|██████████| 102/102 [00:05<00:00, 17.56it/s]\n",
            "100%|██████████| 102/102 [00:05<00:00, 17.89it/s]\n",
            "100%|██████████| 102/102 [00:05<00:00, 17.37it/s]\n"
          ]
        }
      ],
      "source": [
        "# train\n",
        "history = []\n",
        "\n",
        "optimizer = torch.optim.RMSprop(model.parameters(), lr=learning_rate)\n",
        "\n",
        "for epoch in range(NUM_EPOCHS):\n",
        "    train_correct = 0\n",
        "    train_total = 0\n",
        "    test_correct = 0\n",
        "    test_total = 0\n",
        "    model.train()\n",
        "    for inputs, targets in tqdm(train_loader):\n",
        "        \n",
        "        # ***Начало вашего кода***\n",
        "        optimizer.zero_grad()\n",
        "        outp=model(inputs)\n",
        "        loss=criterion(outp, targets.squeeze().long())\n",
        "        loss.backward()\n",
        "        optimizer.step()\n",
        "        # ***Конец вашего кода***\n",
        "        \n",
        "        history.append(loss.item())"
      ]
    },
    {
      "cell_type": "code",
      "execution_count": 28,
      "id": "da36af5d",
      "metadata": {
        "colab": {
          "base_uri": "https://localhost:8080/"
        },
        "id": "da36af5d",
        "outputId": "3e9cb2b2-a5bc-4ffa-d75c-fe6697952a0e"
      },
      "outputs": [
        {
          "output_type": "stream",
          "name": "stdout",
          "text": [
            "test  auc: 0.496  acc:0.110\n"
          ]
        }
      ],
      "source": [
        "# Функция для оценки работы модели\n",
        "\n",
        "def test(split):\n",
        "    model.eval()\n",
        "    y_true = torch.tensor([])\n",
        "    y_score = torch.tensor([])\n",
        "    \n",
        "    data_loader = test_loader\n",
        "\n",
        "    with torch.no_grad():\n",
        "        for inputs, targets in data_loader:\n",
        "            outputs = model(inputs)\n",
        "\n",
        "            targets = targets.squeeze().long()\n",
        "            outputs = outputs.softmax(dim=-1)\n",
        "            targets = targets.float().resize_(len(targets), 1)\n",
        "\n",
        "            y_true = torch.cat((y_true, targets), 0)\n",
        "            y_score = torch.cat((y_score, outputs), 0)\n",
        "\n",
        "        y_true = y_true.numpy()\n",
        "        y_score = y_score.detach().numpy()\n",
        "        \n",
        "        evaluator = Evaluator(data_flag, split)\n",
        "        metrics = evaluator.evaluate(y_score)\n",
        "    \n",
        "        print('%s  auc: %.3f  acc:%.3f' % (split, *metrics))\n",
        "        return metrics\n",
        "\n",
        "test_acc=test('test')[1]"
      ]
    },
    {
      "cell_type": "markdown",
      "id": "48e308b5",
      "metadata": {
        "id": "48e308b5"
      },
      "source": [
        "## Результат на тестовой выборке для лучшей модели"
      ]
    },
    {
      "cell_type": "code",
      "execution_count": 29,
      "id": "93b2e3cc",
      "metadata": {
        "colab": {
          "base_uri": "https://localhost:8080/"
        },
        "id": "93b2e3cc",
        "outputId": "5670013e-b7bb-41f2-ee40-fad220484c73"
      },
      "outputs": [
        {
          "output_type": "stream",
          "name": "stdout",
          "text": [
            "Точность на тестовой выборке:  0.10982099661344945\n"
          ]
        }
      ],
      "source": [
        "print('Точность на тестовой выборке: ', test_acc)"
      ]
    },
    {
      "cell_type": "markdown",
      "id": "d8487677",
      "metadata": {
        "id": "d8487677"
      },
      "source": [
        "## Анализ данных\n",
        "\n",
        "Проанализировать данные и сделать выводы о возможных проблемах.\n",
        "\n",
        "_Ваш ответ здесь_"
      ]
    },
    {
      "cell_type": "markdown",
      "id": "c42b0c0b",
      "metadata": {
        "id": "c42b0c0b"
      },
      "source": [
        "- точность низкая\n",
        "\n",
        "> Блок с отступами\n",
        "\n",
        "\n",
        "- точность не повышается с увеличением количества эпох\n",
        "- низкая точность может быть вызвана неподходящей архитектурой или неправильным алгоритмом обучения"
      ]
    }
  ],
  "metadata": {
    "kernelspec": {
      "display_name": "Python 3.10.7 64-bit",
      "language": "python",
      "name": "python3"
    },
    "language_info": {
      "codemirror_mode": {
        "name": "ipython",
        "version": 3
      },
      "file_extension": ".py",
      "mimetype": "text/x-python",
      "name": "python",
      "nbconvert_exporter": "python",
      "pygments_lexer": "ipython3",
      "version": "3.10.7 (tags/v3.10.7:6cc6b13, Sep  5 2022, 14:08:36) [MSC v.1933 64 bit (AMD64)]"
    },
    "vscode": {
      "interpreter": {
        "hash": "a1df27bbbad40ecdaee24acfc89f0b5773272cabcb6b66c54293a258d4db6eb4"
      }
    },
    "colab": {
      "provenance": []
    },
    "widgets": {
      "application/vnd.jupyter.widget-state+json": {
        "4890095d83a7425abdbe6a005f575d64": {
          "model_module": "@jupyter-widgets/controls",
          "model_name": "HBoxModel",
          "model_module_version": "1.5.0",
          "state": {
            "_dom_classes": [],
            "_model_module": "@jupyter-widgets/controls",
            "_model_module_version": "1.5.0",
            "_model_name": "HBoxModel",
            "_view_count": null,
            "_view_module": "@jupyter-widgets/controls",
            "_view_module_version": "1.5.0",
            "_view_name": "HBoxView",
            "box_style": "",
            "children": [
              "IPY_MODEL_ff21dba7dc6f46c4b59386dd786b2756",
              "IPY_MODEL_2b693b54d2c74cfd8c0ffd30493ceaaa",
              "IPY_MODEL_b0f9b9b2d0b84faa84afcc39759a271f"
            ],
            "layout": "IPY_MODEL_fe9c469924504ca1aa595dbc45186566"
          }
        },
        "ff21dba7dc6f46c4b59386dd786b2756": {
          "model_module": "@jupyter-widgets/controls",
          "model_name": "HTMLModel",
          "model_module_version": "1.5.0",
          "state": {
            "_dom_classes": [],
            "_model_module": "@jupyter-widgets/controls",
            "_model_module_version": "1.5.0",
            "_model_name": "HTMLModel",
            "_view_count": null,
            "_view_module": "@jupyter-widgets/controls",
            "_view_module_version": "1.5.0",
            "_view_name": "HTMLView",
            "description": "",
            "description_tooltip": null,
            "layout": "IPY_MODEL_31f5010c4631467f8cd864c420fc08fb",
            "placeholder": "​",
            "style": "IPY_MODEL_4311527f5ed740a3af4b803c506a2ff0",
            "value": "100%"
          }
        },
        "2b693b54d2c74cfd8c0ffd30493ceaaa": {
          "model_module": "@jupyter-widgets/controls",
          "model_name": "FloatProgressModel",
          "model_module_version": "1.5.0",
          "state": {
            "_dom_classes": [],
            "_model_module": "@jupyter-widgets/controls",
            "_model_module_version": "1.5.0",
            "_model_name": "FloatProgressModel",
            "_view_count": null,
            "_view_module": "@jupyter-widgets/controls",
            "_view_module_version": "1.5.0",
            "_view_name": "ProgressView",
            "bar_style": "success",
            "description": "",
            "description_tooltip": null,
            "layout": "IPY_MODEL_ef030662fc7f4c929862dbc35591add0",
            "max": 15527535,
            "min": 0,
            "orientation": "horizontal",
            "style": "IPY_MODEL_6a8f51c2372c43da922d321ea6c9d615",
            "value": 15527535
          }
        },
        "b0f9b9b2d0b84faa84afcc39759a271f": {
          "model_module": "@jupyter-widgets/controls",
          "model_name": "HTMLModel",
          "model_module_version": "1.5.0",
          "state": {
            "_dom_classes": [],
            "_model_module": "@jupyter-widgets/controls",
            "_model_module_version": "1.5.0",
            "_model_name": "HTMLModel",
            "_view_count": null,
            "_view_module": "@jupyter-widgets/controls",
            "_view_module_version": "1.5.0",
            "_view_name": "HTMLView",
            "description": "",
            "description_tooltip": null,
            "layout": "IPY_MODEL_63b04d06d35d4470ac3462ef945eddd7",
            "placeholder": "​",
            "style": "IPY_MODEL_d33ab47900af417c9980b01dc6251e43",
            "value": " 15527535/15527535 [00:29&lt;00:00, 540388.46it/s]"
          }
        },
        "fe9c469924504ca1aa595dbc45186566": {
          "model_module": "@jupyter-widgets/base",
          "model_name": "LayoutModel",
          "model_module_version": "1.2.0",
          "state": {
            "_model_module": "@jupyter-widgets/base",
            "_model_module_version": "1.2.0",
            "_model_name": "LayoutModel",
            "_view_count": null,
            "_view_module": "@jupyter-widgets/base",
            "_view_module_version": "1.2.0",
            "_view_name": "LayoutView",
            "align_content": null,
            "align_items": null,
            "align_self": null,
            "border": null,
            "bottom": null,
            "display": null,
            "flex": null,
            "flex_flow": null,
            "grid_area": null,
            "grid_auto_columns": null,
            "grid_auto_flow": null,
            "grid_auto_rows": null,
            "grid_column": null,
            "grid_gap": null,
            "grid_row": null,
            "grid_template_areas": null,
            "grid_template_columns": null,
            "grid_template_rows": null,
            "height": null,
            "justify_content": null,
            "justify_items": null,
            "left": null,
            "margin": null,
            "max_height": null,
            "max_width": null,
            "min_height": null,
            "min_width": null,
            "object_fit": null,
            "object_position": null,
            "order": null,
            "overflow": null,
            "overflow_x": null,
            "overflow_y": null,
            "padding": null,
            "right": null,
            "top": null,
            "visibility": null,
            "width": null
          }
        },
        "31f5010c4631467f8cd864c420fc08fb": {
          "model_module": "@jupyter-widgets/base",
          "model_name": "LayoutModel",
          "model_module_version": "1.2.0",
          "state": {
            "_model_module": "@jupyter-widgets/base",
            "_model_module_version": "1.2.0",
            "_model_name": "LayoutModel",
            "_view_count": null,
            "_view_module": "@jupyter-widgets/base",
            "_view_module_version": "1.2.0",
            "_view_name": "LayoutView",
            "align_content": null,
            "align_items": null,
            "align_self": null,
            "border": null,
            "bottom": null,
            "display": null,
            "flex": null,
            "flex_flow": null,
            "grid_area": null,
            "grid_auto_columns": null,
            "grid_auto_flow": null,
            "grid_auto_rows": null,
            "grid_column": null,
            "grid_gap": null,
            "grid_row": null,
            "grid_template_areas": null,
            "grid_template_columns": null,
            "grid_template_rows": null,
            "height": null,
            "justify_content": null,
            "justify_items": null,
            "left": null,
            "margin": null,
            "max_height": null,
            "max_width": null,
            "min_height": null,
            "min_width": null,
            "object_fit": null,
            "object_position": null,
            "order": null,
            "overflow": null,
            "overflow_x": null,
            "overflow_y": null,
            "padding": null,
            "right": null,
            "top": null,
            "visibility": null,
            "width": null
          }
        },
        "4311527f5ed740a3af4b803c506a2ff0": {
          "model_module": "@jupyter-widgets/controls",
          "model_name": "DescriptionStyleModel",
          "model_module_version": "1.5.0",
          "state": {
            "_model_module": "@jupyter-widgets/controls",
            "_model_module_version": "1.5.0",
            "_model_name": "DescriptionStyleModel",
            "_view_count": null,
            "_view_module": "@jupyter-widgets/base",
            "_view_module_version": "1.2.0",
            "_view_name": "StyleView",
            "description_width": ""
          }
        },
        "ef030662fc7f4c929862dbc35591add0": {
          "model_module": "@jupyter-widgets/base",
          "model_name": "LayoutModel",
          "model_module_version": "1.2.0",
          "state": {
            "_model_module": "@jupyter-widgets/base",
            "_model_module_version": "1.2.0",
            "_model_name": "LayoutModel",
            "_view_count": null,
            "_view_module": "@jupyter-widgets/base",
            "_view_module_version": "1.2.0",
            "_view_name": "LayoutView",
            "align_content": null,
            "align_items": null,
            "align_self": null,
            "border": null,
            "bottom": null,
            "display": null,
            "flex": null,
            "flex_flow": null,
            "grid_area": null,
            "grid_auto_columns": null,
            "grid_auto_flow": null,
            "grid_auto_rows": null,
            "grid_column": null,
            "grid_gap": null,
            "grid_row": null,
            "grid_template_areas": null,
            "grid_template_columns": null,
            "grid_template_rows": null,
            "height": null,
            "justify_content": null,
            "justify_items": null,
            "left": null,
            "margin": null,
            "max_height": null,
            "max_width": null,
            "min_height": null,
            "min_width": null,
            "object_fit": null,
            "object_position": null,
            "order": null,
            "overflow": null,
            "overflow_x": null,
            "overflow_y": null,
            "padding": null,
            "right": null,
            "top": null,
            "visibility": null,
            "width": null
          }
        },
        "6a8f51c2372c43da922d321ea6c9d615": {
          "model_module": "@jupyter-widgets/controls",
          "model_name": "ProgressStyleModel",
          "model_module_version": "1.5.0",
          "state": {
            "_model_module": "@jupyter-widgets/controls",
            "_model_module_version": "1.5.0",
            "_model_name": "ProgressStyleModel",
            "_view_count": null,
            "_view_module": "@jupyter-widgets/base",
            "_view_module_version": "1.2.0",
            "_view_name": "StyleView",
            "bar_color": null,
            "description_width": ""
          }
        },
        "63b04d06d35d4470ac3462ef945eddd7": {
          "model_module": "@jupyter-widgets/base",
          "model_name": "LayoutModel",
          "model_module_version": "1.2.0",
          "state": {
            "_model_module": "@jupyter-widgets/base",
            "_model_module_version": "1.2.0",
            "_model_name": "LayoutModel",
            "_view_count": null,
            "_view_module": "@jupyter-widgets/base",
            "_view_module_version": "1.2.0",
            "_view_name": "LayoutView",
            "align_content": null,
            "align_items": null,
            "align_self": null,
            "border": null,
            "bottom": null,
            "display": null,
            "flex": null,
            "flex_flow": null,
            "grid_area": null,
            "grid_auto_columns": null,
            "grid_auto_flow": null,
            "grid_auto_rows": null,
            "grid_column": null,
            "grid_gap": null,
            "grid_row": null,
            "grid_template_areas": null,
            "grid_template_columns": null,
            "grid_template_rows": null,
            "height": null,
            "justify_content": null,
            "justify_items": null,
            "left": null,
            "margin": null,
            "max_height": null,
            "max_width": null,
            "min_height": null,
            "min_width": null,
            "object_fit": null,
            "object_position": null,
            "order": null,
            "overflow": null,
            "overflow_x": null,
            "overflow_y": null,
            "padding": null,
            "right": null,
            "top": null,
            "visibility": null,
            "width": null
          }
        },
        "d33ab47900af417c9980b01dc6251e43": {
          "model_module": "@jupyter-widgets/controls",
          "model_name": "DescriptionStyleModel",
          "model_module_version": "1.5.0",
          "state": {
            "_model_module": "@jupyter-widgets/controls",
            "_model_module_version": "1.5.0",
            "_model_name": "DescriptionStyleModel",
            "_view_count": null,
            "_view_module": "@jupyter-widgets/base",
            "_view_module_version": "1.2.0",
            "_view_name": "StyleView",
            "description_width": ""
          }
        }
      }
    }
  },
  "nbformat": 4,
  "nbformat_minor": 5
}