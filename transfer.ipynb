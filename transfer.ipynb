{
  "cells": [
    {
      "cell_type": "markdown",
      "metadata": {
        "id": "XbXH8Ox3uCiF"
      },
      "source": [
        "**Строганов Михаил 214-322**"
      ]
    },
    {
      "cell_type": "markdown",
      "metadata": {
        "id": "XS4uiqDOuCiH"
      },
      "source": [
        "# Задание 4 Transfer Learning\n",
        "\n",
        "## Задание\n",
        "\n",
        "Решить вашу задачу классификации используя перенос обучения. **Transfer Learning** - это процесс дообучения на **новых данных** нейросети, которая была обучена до этого на других данных, например, ImageNet.\n",
        "\n",
        "Определить задачу по классификации изображений основываясь на вашей теме диссертации. Если тема никак не связывается с изображениями, то придумать абстрактную задачу, например классификация радиодеталей.\n",
        "\n",
        "В рамках задачи выбрать количество классов объектов. На каждый класс подобрать минимум по 30 изображений и распределить их на обучающую (train) и проверочную выборку (val).\n",
        "\n",
        "Выбрать 2-3 уже обученные модели, дообучить их на ваших данных и оценить результат. Обученную модель используйте для извлечения признаков, то есть нужно \"заморозить\" все веса, кроме последних полносвязных слоев. Их мы создаем заново и в соответствии с вашим количеством классов.\n",
        "\n",
        "## Источники\n",
        "\n",
        "1. [Transfer learning for computer vision tutorial](https://pytorch.org/tutorials/beginner/transfer_learning_tutorial.html)"
      ]
    },
    {
      "cell_type": "code",
      "execution_count": 19,
      "metadata": {
        "id": "nkMRR-o6uCiI"
      },
      "outputs": [],
      "source": [
        "import os\n",
        "from tqdm.autonotebook import tqdm, trange\n",
        "\n",
        "import torch\n",
        "import torch.nn as nn\n",
        "import torch.optim as optim\n",
        "from torch.optim import lr_scheduler\n",
        "\n",
        "import numpy as np\n",
        "import torchvision\n",
        "from torchvision import datasets, models, transforms\n",
        "import matplotlib.pyplot as plt\n",
        "import time\n",
        "from torchvision.io import read_image\n",
        "from torchvision.models import ResNet101_Weights, ResNet18_Weights\n",
        "import copy"
      ]
    },
    {
      "cell_type": "code",
      "execution_count": 29,
      "metadata": {
        "id": "kO0Jf59HuCiI"
      },
      "outputs": [],
      "source": [
        "# Преобразование обучающих данных для расширения обучающей выборки и её нормализация\n",
        "# Для валидационной (тестовой) выборки только нормализация\n",
        "\n",
        "data_transforms = {\n",
        "    'train': transforms.Compose([\n",
        "        transforms.RandomResizedCrop(244),\n",
        "        transforms.RandomHorizontalFlip(),\n",
        "        transforms.ToTensor(),\n",
        "        transforms.Normalize([0.485, 0.456, 0.406], [0.229, 0.224, 0.225])\n",
        "    ]),\n",
        "    'val': transforms.Compose([\n",
        "        transforms.Resize(256),\n",
        "        transforms.CenterCrop(244),\n",
        "        transforms.ToTensor(),\n",
        "        transforms.Normalize([0.485, 0.456, 0.406], [0.229, 0.224, 0.225])\n",
        "    ]),\n",
        "}\n",
        "\n",
        "data_dir = \"/content/drive/MyDrive/dataset\"# папка с данными. Если запускаете в Colab, нужно скопировать данные к себе в директорию и примонтировать диск. Если запускаете локально --- скачайте данные.\n",
        "\n",
        "# image_datasets = {x: datasets.ImageFolder(os.path.join(data_dir, x), data_transforms[x]) for x in ['train', 'val']}\n",
        "# image_datasets = {x: datasets.ImageFolder(os.path.join(data_dir, x), data_transforms[x]) for x in ['train', 'val']}\n",
        "image_datasets = {x: datasets.ImageFolder(os.path.join(data_dir, x), data_transforms[x]) for x in ['train', 'val']}\n",
        "# специальный класс для загрузки данных в виде батчей\n",
        "dataloaders = {x: torch.utils.data.DataLoader(image_datasets[x], batch_size=4, shuffle=True, num_workers=2) for x in ['train', 'val']}\n",
        "dataset_sizes = {x: len(image_datasets[x]) for x in ['train', 'val']}\n",
        "class_names = image_datasets['train'].classes\n",
        "\n",
        "use_gpu = torch.cuda.is_available()"
      ]
    },
    {
      "cell_type": "code",
      "source": [
        "from google.colab import drive\n",
        "drive.mount('/content/drive')"
      ],
      "metadata": {
        "colab": {
          "base_uri": "https://localhost:8080/"
        },
        "id": "DNkEDwPbg760",
        "outputId": "aa5c9a57-5e00-45c1-f80a-6262b2bbb58a"
      },
      "execution_count": 17,
      "outputs": [
        {
          "output_type": "stream",
          "name": "stdout",
          "text": [
            "Mounted at /content/drive\n"
          ]
        }
      ]
    },
    {
      "cell_type": "markdown",
      "metadata": {
        "id": "tyG1uPBeuCiJ"
      },
      "source": [
        "## Извлечение признаков\n",
        "\n",
        "[Список](https://pytorch.org/vision/stable/models.html#classification) предобученных моделей в Pytorch."
      ]
    },
    {
      "cell_type": "markdown",
      "metadata": {
        "id": "Z8rOQc1XuCiJ"
      },
      "source": [
        "### Загрузка модели"
      ]
    },
    {
      "cell_type": "code",
      "execution_count": 30,
      "metadata": {
        "colab": {
          "base_uri": "https://localhost:8080/",
          "height": 86,
          "referenced_widgets": [
            "6b7ae065d7b74c7d8b1fcae73c806989",
            "fbbd02988cdf47819787ec5ac186f9c0",
            "fdb3eeafe99b4e5698576642edd4f118",
            "3cb5fa1755ec4d619efafd398626b351",
            "fde855edb4f44c94a183f14e0cbb6be7",
            "0bcfb250a6b14fd6a3771f933213d0bf",
            "be8e23686de9403ebea5b6d193d13829",
            "d48fbdb5d229467fa58524d29f3c0da2",
            "3fd2c1bd434a4dba8bfd43e39df52783",
            "1492451aae7a442e842e97a842762124",
            "9be23721479949528085f784280efe4c"
          ]
        },
        "id": "gz2zVL_6uCiJ",
        "outputId": "c5feff5d-fc8c-4e45-f8fa-1bdd5646c447"
      },
      "outputs": [
        {
          "output_type": "stream",
          "name": "stderr",
          "text": [
            "Downloading: \"https://download.pytorch.org/models/resnet101-cd907fc2.pth\" to /root/.cache/torch/hub/checkpoints/resnet101-cd907fc2.pth\n"
          ]
        },
        {
          "output_type": "display_data",
          "data": {
            "text/plain": [
              "  0%|          | 0.00/171M [00:00<?, ?B/s]"
            ],
            "application/vnd.jupyter.widget-view+json": {
              "version_major": 2,
              "version_minor": 0,
              "model_id": "6b7ae065d7b74c7d8b1fcae73c806989"
            }
          },
          "metadata": {}
        }
      ],
      "source": [
        "num_classes = 2 # Количество классов в вашей задаче\n",
        "\n",
        "# weights = ResNet18_Weights.DEFAULT\n",
        "# model_conv = torchvision.models.resnet18(weights=weights) # Выбирите 2-3 модели из списка и дообучите их (pretrained=True)\n",
        "weights = ResNet101_Weights.DEFAULT\n",
        "model_conv = torchvision.models.resnet101(weights=weights)\n",
        "for param in model_conv.parameters():\n",
        "    param.requires_grad = False\n",
        "\n",
        "# Параметры вновь созданных моделей по умолчанию имеют requires_grad=True\n",
        "num_ftrs = model_conv.fc.in_features\n",
        "model_conv.fc = nn.Linear(num_ftrs, num_classes)\n",
        "\n",
        "device = torch.device('cuda' if torch.cuda.is_available() else 'cpu')\n",
        "model_conv = model_conv.to(device)\n",
        "\n",
        "criterion = nn.CrossEntropyLoss()\n",
        "\n",
        "# Обратите внимание, что оптимизируются только параметры последнего слоя, в отличие от предыдущего.\n",
        "optimizer_conv = optim.SGD(model_conv.fc.parameters(), lr=0.001, momentum=0.9)\n",
        "\n",
        "# Уменьшение LR в 0,1 раза каждые 7 эпох\n",
        "exp_lr_scheduler = lr_scheduler.StepLR(optimizer_conv, step_size=7, gamma=0.1)"
      ]
    },
    {
      "cell_type": "markdown",
      "metadata": {
        "id": "wJomXogouCiK"
      },
      "source": [
        "### Функция для обучения"
      ]
    },
    {
      "cell_type": "code",
      "execution_count": 31,
      "metadata": {
        "id": "Dqw4J2jPuCiK"
      },
      "outputs": [],
      "source": [
        "def train_model(model, criterion, optimizer, scheduler, num_epochs=25):\n",
        "    since = time.time()\n",
        "\n",
        "    best_model_wts = copy.deepcopy(model.state_dict())\n",
        "    best_acc = 0.0\n",
        "\n",
        "    for epoch in range(num_epochs):\n",
        "        print(f'Epoch {epoch}/{num_epochs - 1}')\n",
        "        print('-' * 10)\n",
        "\n",
        "        # Each epoch has a training and validation phase\n",
        "        for phase in ['train', 'val']:\n",
        "            if phase == 'train':\n",
        "                model.train()  # Set model to training mode\n",
        "            else:\n",
        "                model.eval()   # Set model to evaluate mode\n",
        "\n",
        "            running_loss = 0.0\n",
        "            running_corrects = 0\n",
        "\n",
        "            # Iterate over data.\n",
        "            for inputs, labels in dataloaders[phase]:\n",
        "                inputs = inputs.to(device)\n",
        "                labels = labels.to(device)\n",
        "\n",
        "                # zero the parameter gradients\n",
        "                optimizer.zero_grad()\n",
        "\n",
        "                # forward\n",
        "                # track history if only in train\n",
        "                with torch.set_grad_enabled(phase == 'train'):\n",
        "                    outputs = model(inputs)\n",
        "                    _, preds = torch.max(outputs, 1)\n",
        "                    loss = criterion(outputs, labels)\n",
        "\n",
        "                    # backward + optimize only if in training phase\n",
        "                    if phase == 'train':\n",
        "                        loss.backward()\n",
        "                        optimizer.step()\n",
        "\n",
        "                # statistics\n",
        "                running_loss += loss.item() * inputs.size(0)\n",
        "                running_corrects += torch.sum(preds == labels.data)\n",
        "            if phase == 'train':\n",
        "                scheduler.step()\n",
        "\n",
        "            epoch_loss = running_loss / dataset_sizes[phase]\n",
        "            epoch_acc = running_corrects.double() / dataset_sizes[phase]\n",
        "\n",
        "            print(f'{phase} Loss: {epoch_loss:.4f} Acc: {epoch_acc:.4f}')\n",
        "\n",
        "            # deep copy the model\n",
        "            if phase == 'val' and epoch_acc > best_acc:\n",
        "                best_acc = epoch_acc\n",
        "                best_model_wts = copy.deepcopy(model.state_dict())\n",
        "\n",
        "        print()\n",
        "\n",
        "    time_elapsed = time.time() - since\n",
        "    print(f'Training complete in {time_elapsed // 60:.0f}m {time_elapsed % 60:.0f}s')\n",
        "    print(f'Best val Acc: {best_acc:4f}')\n",
        "\n",
        "    # load best model weights\n",
        "    model.load_state_dict(best_model_wts)\n",
        "    return model"
      ]
    },
    {
      "cell_type": "markdown",
      "metadata": {
        "id": "UHXd3yZxuCiK"
      },
      "source": [
        "### Обучение и оценка"
      ]
    },
    {
      "cell_type": "code",
      "execution_count": 33,
      "metadata": {
        "colab": {
          "base_uri": "https://localhost:8080/"
        },
        "id": "c4M7aGy8uCiK",
        "outputId": "18207f6b-6a90-4a5e-ce13-cec8cbaff635"
      },
      "outputs": [
        {
          "output_type": "stream",
          "name": "stdout",
          "text": [
            "Epoch 0/24\n",
            "----------\n",
            "train Loss: 0.4551 Acc: 0.8846\n",
            "val Loss: 0.5064 Acc: 0.8889\n",
            "\n",
            "Epoch 1/24\n",
            "----------\n",
            "train Loss: 0.5748 Acc: 0.7692\n",
            "val Loss: 0.5114 Acc: 0.8889\n",
            "\n",
            "Epoch 2/24\n",
            "----------\n",
            "train Loss: 0.5545 Acc: 0.7692\n",
            "val Loss: 0.5096 Acc: 0.9444\n",
            "\n",
            "Epoch 3/24\n",
            "----------\n",
            "train Loss: 0.4878 Acc: 0.8654\n",
            "val Loss: 0.5225 Acc: 0.8889\n",
            "\n",
            "Epoch 4/24\n",
            "----------\n",
            "train Loss: 0.5282 Acc: 0.8462\n",
            "val Loss: 0.5076 Acc: 0.8889\n",
            "\n",
            "Epoch 5/24\n",
            "----------\n",
            "train Loss: 0.5112 Acc: 0.8077\n",
            "val Loss: 0.5083 Acc: 0.8889\n",
            "\n",
            "Epoch 6/24\n",
            "----------\n",
            "train Loss: 0.5262 Acc: 0.8846\n",
            "val Loss: 0.5286 Acc: 0.8889\n",
            "\n",
            "Epoch 7/24\n",
            "----------\n",
            "train Loss: 0.5724 Acc: 0.7500\n",
            "val Loss: 0.5125 Acc: 0.8889\n",
            "\n",
            "Epoch 8/24\n",
            "----------\n",
            "train Loss: 0.4909 Acc: 0.8654\n",
            "val Loss: 0.4911 Acc: 0.9444\n",
            "\n",
            "Epoch 9/24\n",
            "----------\n",
            "train Loss: 0.5474 Acc: 0.8077\n",
            "val Loss: 0.5246 Acc: 0.9444\n",
            "\n",
            "Epoch 10/24\n",
            "----------\n",
            "train Loss: 0.4982 Acc: 0.8654\n",
            "val Loss: 0.5382 Acc: 0.8889\n",
            "\n",
            "Epoch 11/24\n",
            "----------\n",
            "train Loss: 0.5246 Acc: 0.7885\n",
            "val Loss: 0.5174 Acc: 0.9444\n",
            "\n",
            "Epoch 12/24\n",
            "----------\n",
            "train Loss: 0.4732 Acc: 0.7885\n",
            "val Loss: 0.4965 Acc: 0.8889\n",
            "\n",
            "Epoch 13/24\n",
            "----------\n",
            "train Loss: 0.5399 Acc: 0.7692\n",
            "val Loss: 0.5085 Acc: 0.8889\n",
            "\n",
            "Epoch 14/24\n",
            "----------\n",
            "train Loss: 0.4828 Acc: 0.8846\n",
            "val Loss: 0.5110 Acc: 0.8889\n",
            "\n",
            "Epoch 15/24\n",
            "----------\n",
            "train Loss: 0.5209 Acc: 0.8654\n",
            "val Loss: 0.5187 Acc: 0.8889\n",
            "\n",
            "Epoch 16/24\n",
            "----------\n",
            "train Loss: 0.5064 Acc: 0.7885\n",
            "val Loss: 0.5428 Acc: 0.9444\n",
            "\n",
            "Epoch 17/24\n",
            "----------\n",
            "train Loss: 0.5039 Acc: 0.8269\n",
            "val Loss: 0.5170 Acc: 0.8889\n",
            "\n",
            "Epoch 18/24\n",
            "----------\n",
            "train Loss: 0.5361 Acc: 0.7692\n",
            "val Loss: 0.5235 Acc: 0.8889\n",
            "\n",
            "Epoch 19/24\n",
            "----------\n",
            "train Loss: 0.5138 Acc: 0.8462\n",
            "val Loss: 0.5030 Acc: 0.9444\n",
            "\n",
            "Epoch 20/24\n",
            "----------\n",
            "train Loss: 0.5186 Acc: 0.8077\n",
            "val Loss: 0.5109 Acc: 0.8889\n",
            "\n",
            "Epoch 21/24\n",
            "----------\n",
            "train Loss: 0.4704 Acc: 0.8269\n",
            "val Loss: 0.4728 Acc: 0.8889\n",
            "\n",
            "Epoch 22/24\n",
            "----------\n",
            "train Loss: 0.4555 Acc: 0.8846\n",
            "val Loss: 0.5121 Acc: 0.8889\n",
            "\n",
            "Epoch 23/24\n",
            "----------\n",
            "train Loss: 0.5449 Acc: 0.7692\n",
            "val Loss: 0.5207 Acc: 0.8889\n",
            "\n",
            "Epoch 24/24\n",
            "----------\n",
            "train Loss: 0.5378 Acc: 0.7885\n",
            "val Loss: 0.5145 Acc: 0.8889\n",
            "\n",
            "Training complete in 12m 25s\n",
            "Best val Acc: 0.944444\n"
          ]
        }
      ],
      "source": [
        "model_ft = train_model(model_ft, criterion, optimizer_conv, exp_lr_scheduler, num_epochs=25)"
      ]
    },
    {
      "cell_type": "markdown",
      "metadata": {
        "id": "rcC7e0ppuCiL"
      },
      "source": [
        "## Анализ данных\n",
        "\n",
        "Проанализировать данные и сделать выводы о возможных проблемах.\n",
        "\n",
        "Изображения для дообучения: болты и гайки\n",
        "- Модель resnet101: 12 эпох, лучшая точность 0.944444\n",
        "- Модель resnet18: 25 эпох, лучшая точность 0.964444\n",
        "\n",
        "Модель с меньшим числом слоёв сработала точнее, потому что веса удачно подобрались и датасет для дообучения маленький"
      ]
    }
  ],
  "metadata": {
    "kernelspec": {
      "display_name": "Python 3",
      "language": "python",
      "name": "python3"
    },
    "language_info": {
      "codemirror_mode": {
        "name": "ipython",
        "version": 3
      },
      "file_extension": ".py",
      "mimetype": "text/x-python",
      "name": "python",
      "nbconvert_exporter": "python",
      "pygments_lexer": "ipython3",
      "version": "3.10.7 (tags/v3.10.7:6cc6b13, Sep  5 2022, 14:08:36) [MSC v.1933 64 bit (AMD64)]"
    },
    "orig_nbformat": 4,
    "vscode": {
      "interpreter": {
        "hash": "a1df27bbbad40ecdaee24acfc89f0b5773272cabcb6b66c54293a258d4db6eb4"
      }
    },
    "colab": {
      "provenance": []
    },
    "widgets": {
      "application/vnd.jupyter.widget-state+json": {
        "6b7ae065d7b74c7d8b1fcae73c806989": {
          "model_module": "@jupyter-widgets/controls",
          "model_name": "HBoxModel",
          "model_module_version": "1.5.0",
          "state": {
            "_dom_classes": [],
            "_model_module": "@jupyter-widgets/controls",
            "_model_module_version": "1.5.0",
            "_model_name": "HBoxModel",
            "_view_count": null,
            "_view_module": "@jupyter-widgets/controls",
            "_view_module_version": "1.5.0",
            "_view_name": "HBoxView",
            "box_style": "",
            "children": [
              "IPY_MODEL_fbbd02988cdf47819787ec5ac186f9c0",
              "IPY_MODEL_fdb3eeafe99b4e5698576642edd4f118",
              "IPY_MODEL_3cb5fa1755ec4d619efafd398626b351"
            ],
            "layout": "IPY_MODEL_fde855edb4f44c94a183f14e0cbb6be7"
          }
        },
        "fbbd02988cdf47819787ec5ac186f9c0": {
          "model_module": "@jupyter-widgets/controls",
          "model_name": "HTMLModel",
          "model_module_version": "1.5.0",
          "state": {
            "_dom_classes": [],
            "_model_module": "@jupyter-widgets/controls",
            "_model_module_version": "1.5.0",
            "_model_name": "HTMLModel",
            "_view_count": null,
            "_view_module": "@jupyter-widgets/controls",
            "_view_module_version": "1.5.0",
            "_view_name": "HTMLView",
            "description": "",
            "description_tooltip": null,
            "layout": "IPY_MODEL_0bcfb250a6b14fd6a3771f933213d0bf",
            "placeholder": "​",
            "style": "IPY_MODEL_be8e23686de9403ebea5b6d193d13829",
            "value": "100%"
          }
        },
        "fdb3eeafe99b4e5698576642edd4f118": {
          "model_module": "@jupyter-widgets/controls",
          "model_name": "FloatProgressModel",
          "model_module_version": "1.5.0",
          "state": {
            "_dom_classes": [],
            "_model_module": "@jupyter-widgets/controls",
            "_model_module_version": "1.5.0",
            "_model_name": "FloatProgressModel",
            "_view_count": null,
            "_view_module": "@jupyter-widgets/controls",
            "_view_module_version": "1.5.0",
            "_view_name": "ProgressView",
            "bar_style": "success",
            "description": "",
            "description_tooltip": null,
            "layout": "IPY_MODEL_d48fbdb5d229467fa58524d29f3c0da2",
            "max": 178814045,
            "min": 0,
            "orientation": "horizontal",
            "style": "IPY_MODEL_3fd2c1bd434a4dba8bfd43e39df52783",
            "value": 178814045
          }
        },
        "3cb5fa1755ec4d619efafd398626b351": {
          "model_module": "@jupyter-widgets/controls",
          "model_name": "HTMLModel",
          "model_module_version": "1.5.0",
          "state": {
            "_dom_classes": [],
            "_model_module": "@jupyter-widgets/controls",
            "_model_module_version": "1.5.0",
            "_model_name": "HTMLModel",
            "_view_count": null,
            "_view_module": "@jupyter-widgets/controls",
            "_view_module_version": "1.5.0",
            "_view_name": "HTMLView",
            "description": "",
            "description_tooltip": null,
            "layout": "IPY_MODEL_1492451aae7a442e842e97a842762124",
            "placeholder": "​",
            "style": "IPY_MODEL_9be23721479949528085f784280efe4c",
            "value": " 171M/171M [00:09&lt;00:00, 22.4MB/s]"
          }
        },
        "fde855edb4f44c94a183f14e0cbb6be7": {
          "model_module": "@jupyter-widgets/base",
          "model_name": "LayoutModel",
          "model_module_version": "1.2.0",
          "state": {
            "_model_module": "@jupyter-widgets/base",
            "_model_module_version": "1.2.0",
            "_model_name": "LayoutModel",
            "_view_count": null,
            "_view_module": "@jupyter-widgets/base",
            "_view_module_version": "1.2.0",
            "_view_name": "LayoutView",
            "align_content": null,
            "align_items": null,
            "align_self": null,
            "border": null,
            "bottom": null,
            "display": null,
            "flex": null,
            "flex_flow": null,
            "grid_area": null,
            "grid_auto_columns": null,
            "grid_auto_flow": null,
            "grid_auto_rows": null,
            "grid_column": null,
            "grid_gap": null,
            "grid_row": null,
            "grid_template_areas": null,
            "grid_template_columns": null,
            "grid_template_rows": null,
            "height": null,
            "justify_content": null,
            "justify_items": null,
            "left": null,
            "margin": null,
            "max_height": null,
            "max_width": null,
            "min_height": null,
            "min_width": null,
            "object_fit": null,
            "object_position": null,
            "order": null,
            "overflow": null,
            "overflow_x": null,
            "overflow_y": null,
            "padding": null,
            "right": null,
            "top": null,
            "visibility": null,
            "width": null
          }
        },
        "0bcfb250a6b14fd6a3771f933213d0bf": {
          "model_module": "@jupyter-widgets/base",
          "model_name": "LayoutModel",
          "model_module_version": "1.2.0",
          "state": {
            "_model_module": "@jupyter-widgets/base",
            "_model_module_version": "1.2.0",
            "_model_name": "LayoutModel",
            "_view_count": null,
            "_view_module": "@jupyter-widgets/base",
            "_view_module_version": "1.2.0",
            "_view_name": "LayoutView",
            "align_content": null,
            "align_items": null,
            "align_self": null,
            "border": null,
            "bottom": null,
            "display": null,
            "flex": null,
            "flex_flow": null,
            "grid_area": null,
            "grid_auto_columns": null,
            "grid_auto_flow": null,
            "grid_auto_rows": null,
            "grid_column": null,
            "grid_gap": null,
            "grid_row": null,
            "grid_template_areas": null,
            "grid_template_columns": null,
            "grid_template_rows": null,
            "height": null,
            "justify_content": null,
            "justify_items": null,
            "left": null,
            "margin": null,
            "max_height": null,
            "max_width": null,
            "min_height": null,
            "min_width": null,
            "object_fit": null,
            "object_position": null,
            "order": null,
            "overflow": null,
            "overflow_x": null,
            "overflow_y": null,
            "padding": null,
            "right": null,
            "top": null,
            "visibility": null,
            "width": null
          }
        },
        "be8e23686de9403ebea5b6d193d13829": {
          "model_module": "@jupyter-widgets/controls",
          "model_name": "DescriptionStyleModel",
          "model_module_version": "1.5.0",
          "state": {
            "_model_module": "@jupyter-widgets/controls",
            "_model_module_version": "1.5.0",
            "_model_name": "DescriptionStyleModel",
            "_view_count": null,
            "_view_module": "@jupyter-widgets/base",
            "_view_module_version": "1.2.0",
            "_view_name": "StyleView",
            "description_width": ""
          }
        },
        "d48fbdb5d229467fa58524d29f3c0da2": {
          "model_module": "@jupyter-widgets/base",
          "model_name": "LayoutModel",
          "model_module_version": "1.2.0",
          "state": {
            "_model_module": "@jupyter-widgets/base",
            "_model_module_version": "1.2.0",
            "_model_name": "LayoutModel",
            "_view_count": null,
            "_view_module": "@jupyter-widgets/base",
            "_view_module_version": "1.2.0",
            "_view_name": "LayoutView",
            "align_content": null,
            "align_items": null,
            "align_self": null,
            "border": null,
            "bottom": null,
            "display": null,
            "flex": null,
            "flex_flow": null,
            "grid_area": null,
            "grid_auto_columns": null,
            "grid_auto_flow": null,
            "grid_auto_rows": null,
            "grid_column": null,
            "grid_gap": null,
            "grid_row": null,
            "grid_template_areas": null,
            "grid_template_columns": null,
            "grid_template_rows": null,
            "height": null,
            "justify_content": null,
            "justify_items": null,
            "left": null,
            "margin": null,
            "max_height": null,
            "max_width": null,
            "min_height": null,
            "min_width": null,
            "object_fit": null,
            "object_position": null,
            "order": null,
            "overflow": null,
            "overflow_x": null,
            "overflow_y": null,
            "padding": null,
            "right": null,
            "top": null,
            "visibility": null,
            "width": null
          }
        },
        "3fd2c1bd434a4dba8bfd43e39df52783": {
          "model_module": "@jupyter-widgets/controls",
          "model_name": "ProgressStyleModel",
          "model_module_version": "1.5.0",
          "state": {
            "_model_module": "@jupyter-widgets/controls",
            "_model_module_version": "1.5.0",
            "_model_name": "ProgressStyleModel",
            "_view_count": null,
            "_view_module": "@jupyter-widgets/base",
            "_view_module_version": "1.2.0",
            "_view_name": "StyleView",
            "bar_color": null,
            "description_width": ""
          }
        },
        "1492451aae7a442e842e97a842762124": {
          "model_module": "@jupyter-widgets/base",
          "model_name": "LayoutModel",
          "model_module_version": "1.2.0",
          "state": {
            "_model_module": "@jupyter-widgets/base",
            "_model_module_version": "1.2.0",
            "_model_name": "LayoutModel",
            "_view_count": null,
            "_view_module": "@jupyter-widgets/base",
            "_view_module_version": "1.2.0",
            "_view_name": "LayoutView",
            "align_content": null,
            "align_items": null,
            "align_self": null,
            "border": null,
            "bottom": null,
            "display": null,
            "flex": null,
            "flex_flow": null,
            "grid_area": null,
            "grid_auto_columns": null,
            "grid_auto_flow": null,
            "grid_auto_rows": null,
            "grid_column": null,
            "grid_gap": null,
            "grid_row": null,
            "grid_template_areas": null,
            "grid_template_columns": null,
            "grid_template_rows": null,
            "height": null,
            "justify_content": null,
            "justify_items": null,
            "left": null,
            "margin": null,
            "max_height": null,
            "max_width": null,
            "min_height": null,
            "min_width": null,
            "object_fit": null,
            "object_position": null,
            "order": null,
            "overflow": null,
            "overflow_x": null,
            "overflow_y": null,
            "padding": null,
            "right": null,
            "top": null,
            "visibility": null,
            "width": null
          }
        },
        "9be23721479949528085f784280efe4c": {
          "model_module": "@jupyter-widgets/controls",
          "model_name": "DescriptionStyleModel",
          "model_module_version": "1.5.0",
          "state": {
            "_model_module": "@jupyter-widgets/controls",
            "_model_module_version": "1.5.0",
            "_model_name": "DescriptionStyleModel",
            "_view_count": null,
            "_view_module": "@jupyter-widgets/base",
            "_view_module_version": "1.2.0",
            "_view_name": "StyleView",
            "description_width": ""
          }
        }
      }
    }
  },
  "nbformat": 4,
  "nbformat_minor": 0
}